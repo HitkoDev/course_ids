{
 "cells": [
  {
   "cell_type": "markdown",
   "metadata": {},
   "source": [
    "# Short introduction to Python 3\n",
    "\n",
    "For more check the [official documentation](https://docs.python.org/3/) for Python 3.6, browse for online tutorials or just try to start coding.\n",
    "\n",
    "### Basics\n",
    "\n",
    "Let's first say hello:"
   ]
  },
  {
   "cell_type": "code",
   "execution_count": null,
   "metadata": {},
   "outputs": [],
   "source": [
    "print(\"Hello Data science!\")"
   ]
  },
  {
   "cell_type": "markdown",
   "metadata": {},
   "source": [
    "As common in scripting languages, Python does not require putting the code into functions and defining a main function. The above line is already a valid program.\n",
    "\n",
    "We also don't (need to) separate statements with semi-colons like in some languages, but just put each statement into its own line. For a multiline statement, we put a backslash at the end, or keep an open parentheses, brackets or braces."
   ]
  },
  {
   "cell_type": "code",
   "execution_count": null,
   "metadata": {},
   "outputs": [],
   "source": [
    "print(\"This is a multiline statement \",\n",
    "      \"because the above line has an open ')'\")"
   ]
  },
  {
   "cell_type": "markdown",
   "metadata": {},
   "source": [
    "#### Variables and types\n",
    "\n",
    "Python defines a single integer and floating-point types called `int` and `float`. Integer numbers can be arbitrarily large, while Python floats contain double precision numbers. Complex numbers are also supported using a trailing j to the imaginary part.\n",
    "\n",
    "Unlike in most languages, division, `/`, always returns a float."
   ]
  },
  {
   "cell_type": "code",
   "execution_count": null,
   "metadata": {},
   "outputs": [],
   "source": [
    "print(5 / 2)"
   ]
  },
  {
   "cell_type": "markdown",
   "metadata": {},
   "source": [
    "When we need integer division, we use `//`."
   ]
  },
  {
   "cell_type": "code",
   "execution_count": null,
   "metadata": {},
   "outputs": [],
   "source": [
    "5 // 2  # Note that we can omit print while in REPL or Jupyter notebook!"
   ]
  },
  {
   "cell_type": "markdown",
   "metadata": {},
   "source": [
    "Operator `**` computes the power. Other operators are like in any other language. Python has incremental operators (`+=`, `-=`, `*=`, `/=`, `//=`, `**=`, `|=` ...), but not `++` and `--`."
   ]
  },
  {
   "cell_type": "markdown",
   "metadata": {},
   "source": [
    "Type `bool` is based on integer - `False` is stored as `0` and `True` as 1. Python strives to be readable, so boolean operators are `and`, `or` and `not` (and not `&&`, `||`, `!`). In conditions we can also use non-bool types: 0 is treated as false and all non-zero values are true. For data structures, empty objects (such as an empty string or list) are false and non-empty objects are true."
   ]
  },
  {
   "cell_type": "markdown",
   "metadata": {},
   "source": [
    "String literals are enclosed into single or double quotes, \\\" or \\'. Multiline strings are enclosed in triple quotes. \n",
    "\n",
    "A constant *None* is defined to represent nonexistence of a value, similar to `null` in some other languages."
   ]
  },
  {
   "cell_type": "code",
   "execution_count": null,
   "metadata": {},
   "outputs": [],
   "source": [
    "a = 2864\n",
    "print(\"Type of a is\", type(a))\n",
    "c = 18+64j\n",
    "print(\"Type of c is\", type(c))\n",
    "d = False\n",
    "print(\"Type of d is\", type(d))\n",
    "e = \"I'm loving it!\"\n",
    "print(\"Type of e is\", type(e))\n",
    "f = None\n",
    "print(\"Type of f is,\", type(f))"
   ]
  },
  {
   "cell_type": "markdown",
   "metadata": {},
   "source": [
    "We do not declare variables in Python: assignment binds a name to an objact. Object are strongly typed (`int` will always remain an `int`), while the same name can be rebound to objects of different types. We do this with caution, though, to avoid confusion.\n",
    "\n",
    "Assigning the same object to different names does not duplicate the object. This property is important when dealing with mutable objects, such as lists and sets."
   ]
  },
  {
   "cell_type": "code",
   "execution_count": null,
   "metadata": {},
   "outputs": [],
   "source": [
    "s = \"I'm a string\"\n",
    "t = s\n",
    "print(\"Is t the same object as s?\", t is s)"
   ]
  },
  {
   "cell_type": "markdown",
   "metadata": {},
   "source": [
    "As we see in the above example, operator `is` checks for sameness (like `===` in some languages).\n",
    "\n",
    "It is customary to separate multi-word names by underscores, while CamelCase identifiers are used for class names and constants. We recommend glancing over [PEP 8](https://www.python.org/dev/peps/pep-0008/) for Python coding standards, which will help you to write more readable code."
   ]
  },
  {
   "cell_type": "markdown",
   "metadata": {},
   "source": [
    "#### Strings, concatenation and formatting\n",
    "\n",
    "Basic strings manipulations:"
   ]
  },
  {
   "cell_type": "code",
   "execution_count": null,
   "metadata": {},
   "outputs": [],
   "source": [
    "a = \"Data science\" \n",
    "b = 'a multi-disciplinary field' # we can use double or single quotes\n",
    "c = a + \" \" + b\n",
    "print(\"Concatenated string:\", c)\n",
    "\n",
    "s = \"Science\"\n",
    "first = c[:3]\n",
    "last = c[-2:]\n",
    "print(\"First three letters:\", first, \", and last three:\", last)\n",
    "\n",
    "first_lower = first.lower()\n",
    "last_upper = last.upper()\n",
    "print(\"First word lowercased:\", first_lower, \", and last word uppercased:\", last_upper)\n",
    "\n",
    "management = c.replace(\"science\", \"management\")\n",
    "print(\"Substring replacement: '{}'\".format(management))"
   ]
  },
  {
   "cell_type": "markdown",
   "metadata": {},
   "source": [
    "Explore more about strings in the official [Python 3 documentation for strings](https://docs.python.org/3/library/string.html)."
   ]
  },
  {
   "cell_type": "markdown",
   "metadata": {},
   "source": [
    "Python supports three different mechanisms for string formatting. The newest and the easiest is string interpolation using f-strings. If we put an `f` in front of the opening quote in a string literal. Python will scan the string for expressions enclosed within braces and evaluate them."
   ]
  },
  {
   "cell_type": "code",
   "execution_count": null,
   "metadata": {},
   "outputs": [],
   "source": [
    "a = 3\n",
    "b = 4\n",
    "msg = f\"Rectangle with sides {a} and {b} has an area of {a * b}.\"\n",
    "print(msg)"
   ]
  },
  {
   "cell_type": "markdown",
   "metadata": {},
   "source": [
    "An expression can be followed by `:`, after which we give formatting instructions based on those used in C."
   ]
  },
  {
   "cell_type": "code",
   "execution_count": null,
   "metadata": {},
   "outputs": [],
   "source": [
    "r = 5\n",
    "print(f\"Area of a circle with radius {r} is approximately {3.14 * r ** 2:.2f}.\")"
   ]
  },
  {
   "cell_type": "markdown",
   "metadata": {},
   "source": [
    "Read more in Python [documentation about string interpolation](https://docs.python.org/3/reference/lexical_analysis.html#f-strings)."
   ]
  },
  {
   "cell_type": "markdown",
   "metadata": {
    "scrolled": true
   },
   "source": [
    "#### Data stuctures: Lists, Tuples, Sets, Dictionaries\n",
    "\n",
    "Python has several built-in high-level data structures. Explore more of their functions in [the official Python documentation](https://docs.python.org/3/tutorial/datastructures.html)."
   ]
  },
  {
   "cell_type": "code",
   "execution_count": null,
   "metadata": {},
   "outputs": [],
   "source": [
    "l = [1, 2, 3, \"a\", 10] # list  \n",
    "t = (1, 2, 3, \"a\", 10) # tuple (similar to list, but immutable)\n",
    "s = {\"a\", \"b\", \"c\"}    # set"
   ]
  },
  {
   "cell_type": "code",
   "execution_count": null,
   "metadata": {},
   "outputs": [],
   "source": [
    "dict = {\n",
    "  \"title\": \"Introduction to Data Science\",\n",
    "  \"year\": 1,\n",
    "  \"semester\": \"fall\",\n",
    "  \"classroom\": \"P02\"\n",
    "}\n",
    "dict[\"classroom\"] = \"P03\" "
   ]
  },
  {
   "cell_type": "markdown",
   "metadata": {},
   "source": [
    "Note that braces are used for both set and dictionary literals. A literal, `{}`, represents an empty dictionary. For an empty set, we call a constructor, like in `empty_set = set()`. Also note that `(5)` is not a tuple but `5` in parentheses. Single element tuples are given b a trailing comma, `(5, `). Trailing commas are also allowed in other literals, but have no effect.\n",
    "\n",
    "Python supports list, set and dict [comprehensions](https://docs.python.org/3/tutorial/datastructures.html#list-comprehensions)."
   ]
  },
  {
   "cell_type": "code",
   "execution_count": null,
   "metadata": {},
   "outputs": [],
   "source": [
    "s = [6, 8, 22, 4, 12]\n",
    "doubled = [x * 2 for x in s]\n",
    "print(\"Doubled:\", doubled)\n",
    "\n",
    "filtered = [x for x in s if x > 10]\n",
    "print(\"Filtered:\", filtered)\n",
    "\n",
    "doubled_filtered = [x * 2 for x in s if x > 10]\n",
    "print(\"Doubled filtered:\", doubled_filtered)"
   ]
  },
  {
   "cell_type": "markdown",
   "metadata": {},
   "source": [
    "Replacing brackets with braces will give a set. Using parentheses instead of brackets will give a generator whose values are computed on the fly, similar to Java streams.\n",
    "\n",
    "For those familiar with functional-style programming, let's mention that comprehensions are equivalent to `map` and `filter`. Python has these functions, too (although comprehensions are favoured over them), as well as `reduce` and other useful function for this coding style. See modulues [functools](https://docs.python.org/3/library/functools.html) and [itertools](https://docs.python.org/3/library/itertools.html) for more information on that topic."
   ]
  },
  {
   "cell_type": "markdown",
   "metadata": {},
   "source": [
    "### Flow control\n",
    "\n",
    "Pythons conditional statements are `if`, `elif` (short for *else if*) and `else`. Blocks are coded are not enclosed into braces or begin-end statements, but are denoted by using a colon and indenting the block. We customary indent by four spaces. Tabs are deprecated, and mixing tabs and spaces is forbidden."
   ]
  },
  {
   "cell_type": "code",
   "execution_count": null,
   "metadata": {},
   "outputs": [],
   "source": [
    "a = 2  \n",
    "if a > 1:  \n",
    "    print('a is greater than 1')\n",
    "    print('Yes, it is.')\n",
    "elif a == 1:  \n",
    "    print('a is equal to 1')\n",
    "else:  \n",
    "    print('a is less than 1')"
   ]
  },
  {
   "cell_type": "markdown",
   "metadata": {},
   "source": [
    "Keywords `if` and `else` are also used in Python's version of ternary operator. `x if c else y` is equivalent to `c ? x : y` in most other languages."
   ]
  },
  {
   "cell_type": "markdown",
   "metadata": {},
   "source": [
    "Python's for loop iterates over any iterable object, like a list, string, set, dict, tuple, file, or interval of integer numbers (which we construct with a function `range`)."
   ]
  },
  {
   "cell_type": "code",
   "execution_count": null,
   "metadata": {},
   "outputs": [],
   "source": [
    "for i in range(4, 6):\n",
    "    print(i)\n",
    "\n",
    "people_list = ['Ann', 'Bob', 'Charles']  \n",
    "for person in people_list:\n",
    "    print(person)"
   ]
  },
  {
   "cell_type": "markdown",
   "metadata": {},
   "source": [
    "The other type of the loop is a `while` loop."
   ]
  },
  {
   "cell_type": "code",
   "execution_count": null,
   "metadata": {},
   "outputs": [],
   "source": [
    "i = 1\n",
    "while i <= 3:\n",
    "  print(i)\n",
    "  i = i + 1"
   ]
  },
  {
   "cell_type": "markdown",
   "metadata": {},
   "source": [
    "Loops can be interrupted with `break`, or parts of it skipped by `continue`. A loop can be followed by an `else` block which executes if the block was not interrupted with break."
   ]
  },
  {
   "cell_type": "code",
   "execution_count": null,
   "metadata": {},
   "outputs": [],
   "source": [
    "s = [20, 1, 29, 104, 20, 120]\n",
    "for x in s:\n",
    "    if x >= 100:\n",
    "        print(f\"The first large number in the list is {x}.\")\n",
    "        break\n",
    "else:\n",
    "    print(\"The list has only small numbers.\")"
   ]
  },
  {
   "cell_type": "markdown",
   "metadata": {},
   "source": [
    "Note that `else` is aligned with `for`, not `if`, thus it corresponds to `for`. Check yourself what would happen if we indent it by one level."
   ]
  },
  {
   "cell_type": "markdown",
   "metadata": {},
   "source": [
    "### Functions\n",
    "\n",
    "Function are defined by a keyword `def`, followed by the name and formatl arguments in parentheses. Like for other blocks of code, the line ends with `:` and the code of the function is indented."
   ]
  },
  {
   "cell_type": "code",
   "execution_count": null,
   "metadata": {},
   "outputs": [],
   "source": [
    "def greet_me(name):\n",
    "  print(f\"Hello my friend {name}!\")\n",
    "  \n",
    "greet_me(\"Janez\")"
   ]
  },
  {
   "cell_type": "markdown",
   "metadata": {},
   "source": [
    "Function does not define its argument and result types. All functions serve as templates."
   ]
  },
  {
   "cell_type": "code",
   "execution_count": null,
   "metadata": {},
   "outputs": [],
   "source": [
    "def add(a, b):\n",
    "    return a + b\n",
    "\n",
    "print(add(5, 6))  # 11\n",
    "print(add(\"Data\", \" science\"))  # \"Data science\"\n",
    "print(add(5, \"Data\"))  # error in line `a + b`"
   ]
  },
  {
   "cell_type": "markdown",
   "metadata": {},
   "source": [
    "Sometimes our functions will have many parameters, out of which some will often be optional or have a default value. In the example below we add a parameter with a default value. If there are multiple optional parameters we can set only specific ones by naming it."
   ]
  },
  {
   "cell_type": "code",
   "execution_count": null,
   "metadata": {},
   "outputs": [],
   "source": [
    "def greet(name, title=\"Mr.\"):\n",
    "  print(f\"Hello {title} {name}!\")\n",
    "  \n",
    "greet(\"Janez\")\n",
    "greet(\"Mojca\", \"Mrs.\")\n",
    "greet(\"Mojca\", title = \"Mrs.\")"
   ]
  },
  {
   "cell_type": "markdown",
   "metadata": {},
   "source": [
    "For functions with many default arguments, naming the parameters allows us to specify only the values for which we need to change the default."
   ]
  },
  {
   "cell_type": "code",
   "execution_count": null,
   "metadata": {},
   "outputs": [],
   "source": [
    "def complicated_function(name, surname, title=\"Mr.\", status=\"student\",\n",
    "                         location=\"Ljubljana\", year=1):\n",
    "    ...\n",
    "    \n",
    "complicated_function(\"John\", \"Doe\", year=5, location=\"Kranj\")"
   ]
  },
  {
   "cell_type": "markdown",
   "metadata": {},
   "source": [
    "If we want the function to accept an arbitrary number of arguments, we prepend a `*` in front of the last format argument. The argument will then contain the tuple with all extra arguments."
   ]
  },
  {
   "cell_type": "code",
   "execution_count": null,
   "metadata": {},
   "outputs": [],
   "source": [
    "def f(a, b, *args):\n",
    "    print(a, b, args)\n",
    "    \n",
    "f(1, 2, 3, 4, 5)  # prints 1 2 (3, 4, 5)"
   ]
  },
  {
   "cell_type": "markdown",
   "metadata": {},
   "source": [
    "Extra named arguments are captured into a dictionary; the corresponding formal argument must be prepended by double stars."
   ]
  },
  {
   "cell_type": "code",
   "execution_count": null,
   "metadata": {},
   "outputs": [],
   "source": [
    "def f(a, b, *args, **kwargs):\n",
    "    print(a, b, args, kwargs)\n",
    "    \n",
    "f(1, c=3, b=7, d=2)"
   ]
  },
  {
   "cell_type": "markdown",
   "metadata": {},
   "source": [
    "This prints `1 7 () {'c': 3, 'd': 2}`. Note that the value of `b` was given as a named argument. This is allowed; naming an argument doesn't require it to have a default value. In the call we gave no extra unnamed arguments, hence an empty tuple. Arguments `c` and `d` are extra named arguments, so they are put into a dictionary `kwargs`."
   ]
  },
  {
   "cell_type": "markdown",
   "metadata": {
    "collapsed": true
   },
   "source": [
    "Functions can be recursive."
   ]
  },
  {
   "cell_type": "code",
   "execution_count": null,
   "metadata": {},
   "outputs": [],
   "source": [
    "def factorial(x):\n",
    "  if x > 0:\n",
    "    return x * factorial(x - 1)\n",
    "  else: \n",
    "    return 1\n",
    "  \n",
    "print(f\"500! = {factorial(500)}\")"
   ]
  },
  {
   "cell_type": "markdown",
   "metadata": {},
   "source": [
    "Variables whose values are assigned in a function are local by default. In the following function, `y` is local and `x` is global."
   ]
  },
  {
   "cell_type": "code",
   "execution_count": null,
   "metadata": {},
   "outputs": [],
   "source": [
    "def f():\n",
    "    y = 3\n",
    "    print(x, y)\n",
    "    \n",
    "x = 1\n",
    "y = 2\n",
    "f()"
   ]
  },
  {
   "cell_type": "markdown",
   "metadata": {},
   "source": [
    "When naming functions, classes, objects, packages, ... we need to be careful not to overwrite existing objects. The snippet below may not seem important but such bugs can be very tedious to discover."
   ]
  },
  {
   "cell_type": "code",
   "execution_count": null,
   "metadata": {},
   "outputs": [],
   "source": [
    "def greeter():\n",
    "  print(\"Hello to everyone!\")\n",
    "  \n",
    "greeter()\n",
    "greeter = \"Mr. John Hopkins\"\n",
    "greeter()                     # Error - greeter is now string value"
   ]
  },
  {
   "cell_type": "markdown",
   "metadata": {},
   "source": [
    "### Classes and objects\n",
    "\n",
    "Python is also object-oriented and therefore enables us to encapsulate data and functionality into classes.\n",
    "\n",
    "A class is defined by keyword `class`, followed by its name and, optionally, parentheses containing one or more base classes. This is followed by a colon an indented block that contains the methods.\n",
    "\n",
    "The first formal argument of a method (except for static methods and class methods) represents the instance. We customarily name it `self` (like in Modula 2). `self` corresponds to `this` in some other language, except that it is always given explicitly. Instance's attributes are also accessed explicitly through `self`.\n",
    "\n",
    "Note also that we do not declare the class attributes (fields), but just assign them values in the constructor, `__init__`."
   ]
  },
  {
   "cell_type": "code",
   "execution_count": null,
   "metadata": {},
   "outputs": [],
   "source": [
    "class Classroom:\n",
    "  def __init__(self, name):\n",
    "    self.name = \"Best of Data Science class \" + name\n",
    "    self.students = []\n",
    "    \n",
    "  def enroll(self, student):\n",
    "    self.students.append(student)\n",
    "    \n",
    "  def describe(self):\n",
    "    return f\"Class: '{self.name}', students: '{self.students}'\""
   ]
  },
  {
   "cell_type": "markdown",
   "metadata": {},
   "source": [
    "Python's classes are rich: they allow static methods and class methods, class customization (we can define arithmetic operators, accessing and modifying elements by indexing, we can modify the way that instances are printed, make an instances iterable), meta classees, class attributes and many other features. A more detailed explanation can be found in [the official Python documentation](https://docs.python.org/3/tutorial/classes.html)."
   ]
  },
  {
   "cell_type": "code",
   "execution_count": null,
   "metadata": {},
   "outputs": [],
   "source": []
  }
 ],
 "metadata": {
  "kernelspec": {
   "display_name": "Python 3",
   "language": "python",
   "name": "python3"
  },
  "language_info": {
   "codemirror_mode": {
    "name": "ipython",
    "version": 3
   },
   "file_extension": ".py",
   "mimetype": "text/x-python",
   "name": "python",
   "nbconvert_exporter": "python",
   "pygments_lexer": "ipython3",
   "version": "3.6.5"
  }
 },
 "nbformat": 4,
 "nbformat_minor": 1
}
