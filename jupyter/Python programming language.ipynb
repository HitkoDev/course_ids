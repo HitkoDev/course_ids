{
 "cells": [
  {
   "cell_type": "markdown",
   "metadata": {},
   "source": [
    "# Short introduction to Python 3\n",
    "\n",
    "For more check the [official documentation](https://docs.python.org/3/) for Python 3.6, browse for online tutorials or just try to start coding.\n",
    "\n",
    "### Basics\n",
    "\n",
    "Let's first say hello:"
   ]
  },
  {
   "cell_type": "code",
   "execution_count": null,
   "metadata": {},
   "outputs": [],
   "source": [
    "print(\"Hello Data science!\")"
   ]
  },
  {
   "cell_type": "markdown",
   "metadata": {},
   "source": [
    "#### Variables and types\n",
    "\n",
    "Python defines whole numbers (*int*, *long*) and real numbers (*float*). Whole numbers are integers ($\\pm 2^{31}$ or $\\pm 2^{63}$) and long numbers, limited by the memory size. Long is a number with a trailing *L* added at the end. Complex numbers are also supported using a trailing *j* to the imaginary part. Bool type is based on integer - value of 1 as *True* or anything else as *False*.\n",
    "\n",
    "String values are represented as sequence of characters within \\\" or \\'. \n",
    "\n",
    "A constant *None* is defined to represent nonexistence of a value."
   ]
  },
  {
   "cell_type": "code",
   "execution_count": null,
   "metadata": {},
   "outputs": [],
   "source": [
    "a = 2864\n",
    "print(\"Type of a is {}\".format(type(a)))\n",
    "c = 18+64j\n",
    "print(\"Type of c is {}\".format(type(c)))\n",
    "d = False\n",
    "print(\"Type of d is {}\".format(type(d)))\n",
    "e = \"I'm loving it!\"\n",
    "print(\"Type of e is {}\".format(type(e)))\n",
    "f = None\n",
    "print(\"Type of f is {}\".format(type(f)))"
   ]
  },
  {
   "cell_type": "markdown",
   "metadata": {},
   "source": [
    "#### Strings, concatenation and formatting\n",
    "\n",
    "Basic strings manipulations:"
   ]
  },
  {
   "cell_type": "code",
   "execution_count": null,
   "metadata": {},
   "outputs": [],
   "source": [
    "a = \"Data science\" \n",
    "b = 'a multi-disciplinary field' # we can use double or single quotes\n",
    "c = a + \" \" + b\n",
    "print(\"Concatenated string: {}\".format(c))\n",
    "first = c[:4]\n",
    "last = c[-5:]\n",
    "print(\"First word: '{}' and last word: '{}'.\".format(first, last))\n",
    "firstLower = first.lower()\n",
    "lastUpper = last.upper()\n",
    "print(\"First word lowercased: '{}' and last word uppercased: '{}'.\".\\\n",
    "  format(firstLower, lastUpper))\n",
    "management = c.replace(\"science\", \"management\")\n",
    "print(\"Substring replacement: '{}'\".format(management))"
   ]
  },
  {
   "cell_type": "markdown",
   "metadata": {},
   "source": [
    "Explore more about strings in the official [Python 3 documentation for strings](https://docs.python.org/3/library/string.html)."
   ]
  },
  {
   "cell_type": "code",
   "execution_count": null,
   "metadata": {},
   "outputs": [],
   "source": [
    "# string package\n",
    "import string\n",
    "print(\"Punctuation symbols: '{}'\".format(string.punctuation))"
   ]
  },
  {
   "cell_type": "markdown",
   "metadata": {},
   "source": [
    "It is useful to format strings to provide machine readable outputs when needed. For more sophisticated examples, see [https://pyformat.info/](https://pyformat.info/)."
   ]
  },
  {
   "cell_type": "code",
   "execution_count": null,
   "metadata": {},
   "outputs": [],
   "source": [
    "number = 6/.7\n",
    "text = \"dyslexia\"\n",
    "\n",
    "format0 = \"Number: \" + str(round(number*100)/100.0) + \", Text: \" + \\\n",
    "\" \"*(15-len(text)) + text\n",
    "print(format0)\n",
    "format1 = \"Number: {:5.2f}, Text: {:>15}\".format(number, text)\n",
    "print(format1)\n",
    "format2 = \"Number: %5.2f, Text: %15s\" % (number, text)\n",
    "print(format2)"
   ]
  },
  {
   "cell_type": "markdown",
   "metadata": {
    "scrolled": true
   },
   "source": [
    "#### Data stuctures: Lists, Tuples, Sets, Dictionaries\n",
    "\n",
    "Below we create some of the data structures available in Python. Explore more of their functions in [the official Python documentation](https://docs.python.org/3/tutorial/datastructures.html)."
   ]
  },
  {
   "cell_type": "code",
   "execution_count": null,
   "metadata": {},
   "outputs": [],
   "source": [
    "l = [1, 2, 3, \"a\", 10] # List  \n",
    "t = (1, 2, 3, \"a\", 10) # Tuple (immutable)\n",
    "s = {\"a\", \"b\", \"c\"}     # Set"
   ]
  },
  {
   "cell_type": "code",
   "execution_count": null,
   "metadata": {},
   "outputs": [],
   "source": [
    "dict = {\n",
    "  \"title\": \"Introduction to Data Science\",\n",
    "  \"year\": 1,\n",
    "  \"semester\": \"fall\",\n",
    "  \"classroom\": \"P02\"\n",
    "}\n",
    "dict[\"classroom\"] = \"P03\" "
   ]
  },
  {
   "cell_type": "markdown",
   "metadata": {},
   "source": [
    "You will often use inline functions to map, filter or calculate values on a given iterable. For example, apply a function to all values (map), filter out not needed values or use all values in calculation:"
   ]
  },
  {
   "cell_type": "code",
   "execution_count": null,
   "metadata": {},
   "outputs": [],
   "source": [
    "from functools import reduce # Python 3 import for reduce (not needed for Python 2)\n",
    "\n",
    "l = [6, 8, 22, 4, 12]\n",
    "doubled = map(lambda x: x*2, l)\n",
    "print(\"Doubled: {}\".format(doubled))\n",
    "filtered = filter(lambda x: x > 10, l)\n",
    "print(\"Filtered: {}\".format(filtered))\n",
    "sum = reduce(lambda x, y: x+y, l)\n",
    "print(\"Sum value: {}\".format(sum))"
   ]
  },
  {
   "cell_type": "code",
   "execution_count": null,
   "metadata": {},
   "outputs": [],
   "source": [
    "l = [6, 8, 22, 4, 12]\n",
    "newList = [x**2 for x in l if x >= 5 and x <= 10]\n",
    "print(\"Squared values between 5 and 10: {}\".format(newList))"
   ]
  },
  {
   "cell_type": "markdown",
   "metadata": {},
   "source": [
    "### Control flow operations\n",
    "\n",
    "Many operations can be written inline or using multiple lines. Let's check how to use *if* statements and *loops*. "
   ]
  },
  {
   "cell_type": "code",
   "execution_count": null,
   "metadata": {},
   "outputs": [],
   "source": [
    "a = 2  \n",
    "if a > 1:  \n",
    "    print('a is greater than 1')\n",
    "elif a == 1:  \n",
    "    print('a is equal to 1')\n",
    "else:  \n",
    "    print('a is less than 1')"
   ]
  },
  {
   "cell_type": "code",
   "execution_count": null,
   "metadata": {},
   "outputs": [],
   "source": [
    "# Inline if statement\n",
    "a = 2\n",
    "print('a is greater than 1' if a > 1 else 'a is lower or equal to 2')"
   ]
  },
  {
   "cell_type": "markdown",
   "metadata": {},
   "source": [
    "Loops:"
   ]
  },
  {
   "cell_type": "code",
   "execution_count": null,
   "metadata": {},
   "outputs": [],
   "source": [
    "for i in range(4, 6):\n",
    "    print(i)\n",
    "\n",
    "people_list = ['Ann', 'Bob', 'Charles']  \n",
    "for person in people_list:\n",
    "    print(person)\n",
    "\n",
    "i = 1\n",
    "while i <= 3:\n",
    "  print(i)\n",
    "  i = i + 1"
   ]
  },
  {
   "cell_type": "markdown",
   "metadata": {},
   "source": [
    "### Functions\n",
    "\n",
    "We organize our code into logical units and if possible, such units should be generic and reused which results in less boilerplate code. Below we start with a function named *greetMe* that takes one parameter (*name*) as input and prints some string. After we declare function, we need to call it and at that time, the code will be executed."
   ]
  },
  {
   "cell_type": "code",
   "execution_count": null,
   "metadata": {},
   "outputs": [],
   "source": [
    "def greetMe(name):\n",
    "  print(\"Hello my friend {}!\".format(name))\n",
    "  \n",
    "greetMe(\"Janez\")"
   ]
  },
  {
   "cell_type": "markdown",
   "metadata": {},
   "source": [
    "Sometimes our functions will have many parameters, out of which some will often be optional or have a default value. In the example below we add a parameter with a default value. If there are multiple optional parameters we can set only specific ones by naming it."
   ]
  },
  {
   "cell_type": "code",
   "execution_count": null,
   "metadata": {},
   "outputs": [],
   "source": [
    "def greet(name, title = \"Mr.\"):\n",
    "  print(\"Hello {} {}!\".format(title, name))\n",
    "  \n",
    "greet(\"Janez\")\n",
    "greet(\"Mojca\", \"Mrs.\")\n",
    "greet(\"Mojca\", title = \"Mrs.\")"
   ]
  },
  {
   "cell_type": "markdown",
   "metadata": {
    "collapsed": true
   },
   "source": [
    "A function can also call itself and return a value."
   ]
  },
  {
   "cell_type": "code",
   "execution_count": null,
   "metadata": {},
   "outputs": [],
   "source": [
    "def sumUpTo(value):\n",
    "  if value > 0:\n",
    "    return value + sumUpTo(value-1)\n",
    "  else: \n",
    "    return 0\n",
    "  \n",
    "print(\"Sum of all positive integers up to 50 is: {}\".format(sumUpTo(50)))"
   ]
  },
  {
   "cell_type": "markdown",
   "metadata": {},
   "source": [
    "Python encapsulates variables within functions, so therefore they are not accessible outside the function. Still we can use *global* keyword for variables to be accessible everywhere (use with caution!)"
   ]
  },
  {
   "cell_type": "code",
   "execution_count": null,
   "metadata": {},
   "outputs": [],
   "source": [
    "def playWithVariables(value1, list1):\n",
    "  global globVal \n",
    "  globVal = 3\n",
    "  \n",
    "  value1 = 10\n",
    "  list1.append(22)\n",
    "  print(\"Within function: {} and {} and {}\".format(value1, list1, globVal))\n",
    "\n",
    "value1 = 5\n",
    "list1 = [3, 6, 9]\n",
    "print(\"Before function: {} and {}\".format(value1, list1))\n",
    "playWithVariables(value1, list1)\n",
    "print(\"After function: {} and {} and {}\".format(value1, list1, globVal))"
   ]
  },
  {
   "cell_type": "markdown",
   "metadata": {},
   "source": [
    "In some cases we can also define functions that accept undefined number of parameters. Some of them can also be named (*kwargs*)."
   ]
  },
  {
   "cell_type": "code",
   "execution_count": null,
   "metadata": {},
   "outputs": [],
   "source": [
    "def paramsWriter(*args, **kwargs):\n",
    "  print(\"Non-named arguments: {}\\nNamed arguments: {}\".format(args, kwargs))\n",
    "\n",
    "paramsWriter(1, \"a\", [1,5,6], studentIds = [234, 451, 842], maxScore = 100.0)"
   ]
  },
  {
   "cell_type": "markdown",
   "metadata": {},
   "source": [
    "When naming functions, classes, objects, packages, ... we need to be careful not to overwrite existing objects. The snippet below may not seem important but such bugs can be very tedious to discover."
   ]
  },
  {
   "cell_type": "code",
   "execution_count": null,
   "metadata": {},
   "outputs": [],
   "source": [
    "def greeter():\n",
    "  print(\"Hello to everyone!\")\n",
    "  \n",
    "greeter()\n",
    "greeter = \"Mr. John Hopkins\"\n",
    "greeter()                     # Error - greeter is now string value"
   ]
  },
  {
   "cell_type": "markdown",
   "metadata": {},
   "source": [
    "### Classes and objects\n",
    "\n",
    "Python is also object-oriented and therefore enables us to encapsulate data and functionality into classes. Instances of classes are objects. A class below consists of one class variable, one class method, three object methods and two object variables. All class-based variables are accessible using class name directly without having instantiated object. Object-based methods are accessible only through an instantiated object and can also directly modify object properties (*self.\\**). All object methods accept *self* as an implicit parameter, which points to the current object. Below we first show an example of object declaration and then its usage. More detailed explanation can be found in [the official Python documentation](https://docs.python.org/3/tutorial/classes.html)."
   ]
  },
  {
   "cell_type": "code",
   "execution_count": null,
   "metadata": {},
   "outputs": [],
   "source": [
    "class Classroom:\n",
    "  classCounter = 0\n",
    "  \n",
    "  def numClasses():\n",
    "    return Classroom.classCounter\n",
    "  \n",
    "  def __init__(self, name):\n",
    "    Classroom.classCounter += 1\n",
    "    self.name = \"Best of Data Science class \" + name\n",
    "    self.students = []\n",
    "    \n",
    "  def enroll(self, student):\n",
    "    self.students.append(student)\n",
    "    \n",
    "  def __str__(self):\n",
    "    return \"Class: '{}', students: '{}'\".format(self.name, \", \".join(self.students))"
   ]
  },
  {
   "cell_type": "code",
   "execution_count": null,
   "metadata": {},
   "outputs": [],
   "source": [
    "class1 = Classroom(\"best of millenials\")\n",
    "class2 = Classroom(\"old sports\")\n",
    "\n",
    "print(\"Num classes: {}\".format(Classroom.classCounter))\n",
    "print(\"Num classes: {}\".format(Classroom.numClasses()))\n",
    "\n",
    "class2.enroll(\"Slavko Žitnik\")\n",
    "class2.enroll(\"Erik Štrumbelj\")\n",
    "class2.enroll(\"Tomaž Curk\")\n",
    "\n",
    "print(class2)"
   ]
  }
 ],
 "metadata": {
  "kernelspec": {
   "display_name": "Python 3",
   "language": "python",
   "name": "python3"
  },
  "language_info": {
   "codemirror_mode": {
    "name": "ipython",
    "version": 3
   },
   "file_extension": ".py",
   "mimetype": "text/x-python",
   "name": "python",
   "nbconvert_exporter": "python",
   "pygments_lexer": "ipython3",
   "version": "3.7.3"
  }
 },
 "nbformat": 4,
 "nbformat_minor": 1
}
